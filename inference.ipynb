{
 "cells": [
  {
   "cell_type": "markdown",
   "id": "e2fd5d27-34d3-4905-bf5a-542b354a1bc2",
   "metadata": {},
   "source": [
    "# This notebook is for inference on test data given in the interview"
   ]
  },
  {
   "cell_type": "markdown",
   "id": "16d93321-1434-4f74-9f4a-4680680568de",
   "metadata": {},
   "source": [
    "## Load libraries"
   ]
  },
  {
   "cell_type": "code",
   "execution_count": 8,
   "id": "946d30a2-9f72-49f9-867f-5c0dcf75bafa",
   "metadata": {},
   "outputs": [],
   "source": [
    "import utils\n",
    "from feature_engineering import FeatureEngineering\n",
    "import metrics"
   ]
  },
  {
   "cell_type": "code",
   "execution_count": 9,
   "id": "0af9a4c0-2d07-46ae-ae0e-4a4880730d1a",
   "metadata": {},
   "outputs": [],
   "source": [
    "import pandas as pd\n",
    "import numpy as np\n",
    "import metrics\n",
    "import utils\n",
    "from sklearn.model_selection import train_test_split\n",
    "from sklearn.preprocessing import StandardScaler\n",
    "from imblearn.over_sampling import SMOTE\n",
    "import matplotlib.pyplot as plt\n",
    "import pickle\n",
    "import glob\n",
    "import joblib"
   ]
  },
  {
   "cell_type": "code",
   "execution_count": 10,
   "id": "b1737994-5838-4b0a-bb75-c59586f8f0a6",
   "metadata": {},
   "outputs": [],
   "source": [
    "from sklearn.linear_model import LogisticRegression\n",
    "from sklearn.utils.class_weight import compute_class_weight"
   ]
  },
  {
   "cell_type": "code",
   "execution_count": 11,
   "id": "2f7c107f-4371-494e-9f14-bd9f7d71c468",
   "metadata": {},
   "outputs": [],
   "source": [
    "from sklearn.tree import DecisionTreeClassifier"
   ]
  },
  {
   "cell_type": "code",
   "execution_count": 12,
   "id": "5cf9f86f-5315-42e7-b09b-67b6c9d0ddc4",
   "metadata": {},
   "outputs": [
    {
     "name": "stderr",
     "output_type": "stream",
     "text": [
      "/home/ntng/.local/lib/python3.8/site-packages/xgboost/core.py:265: FutureWarning: Your system has an old version of glibc (< 2.28). We will stop supporting Linux distros with glibc older than 2.28 after **May 31, 2025**. Please upgrade to a recent Linux distro (with glibc 2.28+) to use future versions of XGBoost.\n",
      "Note: You have installed the 'manylinux2014' variant of XGBoost. Certain features such as GPU algorithms or federated learning are not available. To use these features, please upgrade to a recent Linux distro with glibc 2.28+, and install the 'manylinux_2_28' variant.\n",
      "  warnings.warn(\n"
     ]
    }
   ],
   "source": [
    "import xgboost as xgb"
   ]
  },
  {
   "cell_type": "markdown",
   "id": "21eff593-a023-4f19-87b9-e4643d00f3c0",
   "metadata": {},
   "source": [
    "## Declare path to test data"
   ]
  },
  {
   "cell_type": "code",
   "execution_count": 13,
   "id": "9a570f02-37a6-4df8-8281-09385a30b3ff",
   "metadata": {},
   "outputs": [],
   "source": [
    "# we define the path to the test dataset\n",
    "path_to_test_data = 'datasets'"
   ]
  },
  {
   "cell_type": "markdown",
   "id": "b6ba139e-dc6b-425b-a5fb-d2ec971e3552",
   "metadata": {},
   "source": [
    "## Internal processing"
   ]
  },
  {
   "cell_type": "code",
   "execution_count": 14,
   "id": "3876434a-fade-4f02-8325-712db350f024",
   "metadata": {},
   "outputs": [],
   "source": [
    "# here are some internal constants\n",
    "path_to_data_scaler = 'assets/data_scaler.pkl'\n",
    "path_to_data_inf_org = 'assets/path_to_data_orig_inf.csv'\n",
    "path_to_data_inf_transformed = 'assets/path_to_data_dev_inf.csv'\n",
    "model_path = {'lr': 'results/lr_model.pkl',\n",
    "              'xgb': 'results/xgb_model.pkl'}\n",
    "model_to_use = 'xgb'"
   ]
  },
  {
   "cell_type": "code",
   "execution_count": 15,
   "id": "78180fdc-84f4-4f80-aa22-9d54b29aced1",
   "metadata": {},
   "outputs": [],
   "source": [
    "# load data\n",
    "df = utils.load_data(nonfraud_path=glob.glob(f\"{path_to_test_data}/*_nonfraud_*.csv\"), fraud_path=glob.glob(f\"{path_to_test_data}/*_fraud*.csv\"))\n",
    "df.to_csv(path_to_data_inf_org, index=False) # we need to store this for report generation"
   ]
  },
  {
   "cell_type": "code",
   "execution_count": 16,
   "id": "f5ec6d15-ae1c-4c61-9501-525083ceceeb",
   "metadata": {},
   "outputs": [],
   "source": [
    "# transform data\n",
    "fe = FeatureEngineering(df)\n",
    "transformed_df = fe.transform() \n",
    "transformed_df.to_csv(path_to_data_inf_transformed, index=False)"
   ]
  },
  {
   "cell_type": "code",
   "execution_count": 17,
   "id": "49579580-6e12-4264-959f-7db692febb28",
   "metadata": {},
   "outputs": [],
   "source": [
    "# prepare data for inference\n",
    "is_with_label = True\n",
    "col_to_drop = ['id']\n",
    "if is_with_label:\n",
    "    col_to_drop.append('fraud')\n",
    "\n",
    "X = transformed_df.drop(col_to_drop, axis=1)\n",
    "y = transformed_df['fraud']\n"
   ]
  },
  {
   "cell_type": "code",
   "execution_count": 18,
   "id": "36ad0dd6-1e00-455a-9bce-cdaeb881a8be",
   "metadata": {},
   "outputs": [],
   "source": [
    "# scale data\n",
    "data_scaler = joblib.load(path_to_data_scaler)\n",
    "X_standardized = data_scaler.transform(X)"
   ]
  },
  {
   "cell_type": "code",
   "execution_count": 19,
   "id": "1207d529-2ef7-448d-b68a-4f4a0779b7dc",
   "metadata": {},
   "outputs": [],
   "source": [
    "clf = utils.load_model(model_path[model_to_use])\n",
    "model = model_to_use + '_test'\n",
    "\n",
    "if model_to_use in ['lr', 'dt']:\n",
    "    y_pred = clf.predict(X_standardized)\n",
    "elif model_to_use == 'xgb':\n",
    "    dtest = xgb.DMatrix(X_standardized, label=y, feature_names=X.columns.tolist())\n",
    "    y_pred_proba = clf.predict(dtest)    \n",
    "    y_pred = (y_pred_proba > 0.5).astype(int)"
   ]
  },
  {
   "cell_type": "markdown",
   "id": "5eb18c2a-e3f4-4e67-b162-044c6622c2f1",
   "metadata": {},
   "source": [
    "# Evaluate models and generate report"
   ]
  },
  {
   "cell_type": "code",
   "execution_count": 20,
   "id": "e63306b4-4809-4bb7-8253-ea34d01c495c",
   "metadata": {},
   "outputs": [
    {
     "name": "stdout",
     "output_type": "stream",
     "text": [
      "F1: 0.9948186528497409\n",
      "ROC AUC: 0.9948453608247423\n",
      "ROC PR: 0.9896913585747152\n"
     ]
    },
    {
     "data": {
      "image/png": "[encoded data removed]",
      "text/plain": [
       "<Figure size 600x400 with 2 Axes>"
      ]
     },
     "metadata": {},
     "output_type": "display_data"
    },
    {
     "data": {
      "text/plain": [
       "array([[1569946,       0],\n",
       "       [      1,      96]])"
      ]
     },
     "execution_count": 20,
     "metadata": {},
     "output_type": "execute_result"
    }
   ],
   "source": [
    "print(\"F1:\", metrics.calc_f1(y, y_pred))\n",
    "print(\"ROC AUC:\", metrics.calc_auc_roc(y, y_pred))\n",
    "print(\"ROC PR:\", metrics.calc_auc_pr(y, y_pred))\n",
    "metrics.generate_confusion_matrix(y, y_pred, model + '_confusion_matrix.png')"
   ]
  },
  {
   "cell_type": "code",
   "execution_count": 21,
   "id": "7f21a789-fdb2-4af8-b11c-a88af3d1a6f9",
   "metadata": {},
   "outputs": [
    {
     "data": {
      "text/html": [
       "<div>\n",
       "<style scoped>\n",
       "    .dataframe tbody tr th:only-of-type {\n",
       "        vertical-align: middle;\n",
       "    }\n",
       "\n",
       "    .dataframe tbody tr th {\n",
       "        vertical-align: top;\n",
       "    }\n",
       "\n",
       "    .dataframe thead th {\n",
       "        text-align: right;\n",
       "    }\n",
       "</style>\n",
       "<table border=\"1\" class=\"dataframe\">\n",
       "  <thead>\n",
       "    <tr style=\"text-align: right;\">\n",
       "      <th></th>\n",
       "      <th>id</th>\n",
       "      <th>sender_id</th>\n",
       "      <th>receiver_id</th>\n",
       "      <th>amount</th>\n",
       "      <th>status</th>\n",
       "      <th>flowname</th>\n",
       "      <th>bankfees</th>\n",
       "      <th>timestamp</th>\n",
       "      <th>sender_age</th>\n",
       "      <th>receiver_age</th>\n",
       "      <th>fraud</th>\n",
       "      <th>fraud_predicted</th>\n",
       "      <th>fraud_predicted_proba</th>\n",
       "      <th>fraud_rank</th>\n",
       "    </tr>\n",
       "  </thead>\n",
       "  <tbody>\n",
       "    <tr>\n",
       "      <th>1574264</th>\n",
       "      <td>60187f84f25afb235f20f021159ebf46</td>\n",
       "      <td>a8d88604449da4bbe0b318923b6d860e</td>\n",
       "      <td>68a1ba743df5ea66c42e2e4337d7127a</td>\n",
       "      <td>900.0</td>\n",
       "      <td>PaymentSucceededV0</td>\n",
       "      <td>e395101288f53121cee2480bc7f24c4b</td>\n",
       "      <td>0.0</td>\n",
       "      <td>2024-05-22 18:18:58.437064+00:00</td>\n",
       "      <td>76</td>\n",
       "      <td>40</td>\n",
       "      <td>1</td>\n",
       "      <td>1</td>\n",
       "      <td>9.999998e-01</td>\n",
       "      <td>1</td>\n",
       "    </tr>\n",
       "    <tr>\n",
       "      <th>1574265</th>\n",
       "      <td>b899e57fb5303729141c521edc14910d</td>\n",
       "      <td>a8d88604449da4bbe0b318923b6d860e</td>\n",
       "      <td>68a1ba743df5ea66c42e2e4337d7127a</td>\n",
       "      <td>900.0</td>\n",
       "      <td>PaymentSucceededV0</td>\n",
       "      <td>e395101288f53121cee2480bc7f24c4b</td>\n",
       "      <td>0.0</td>\n",
       "      <td>2024-05-22 18:26:33.458626+00:00</td>\n",
       "      <td>76</td>\n",
       "      <td>40</td>\n",
       "      <td>1</td>\n",
       "      <td>1</td>\n",
       "      <td>9.999998e-01</td>\n",
       "      <td>2</td>\n",
       "    </tr>\n",
       "    <tr>\n",
       "      <th>1574266</th>\n",
       "      <td>b9ea123c60d3f11611bcfed314f0cdfa</td>\n",
       "      <td>a8d88604449da4bbe0b318923b6d860e</td>\n",
       "      <td>68a1ba743df5ea66c42e2e4337d7127a</td>\n",
       "      <td>900.0</td>\n",
       "      <td>PaymentSucceededV0</td>\n",
       "      <td>e395101288f53121cee2480bc7f24c4b</td>\n",
       "      <td>0.0</td>\n",
       "      <td>2024-05-22 17:47:39.053778+00:00</td>\n",
       "      <td>76</td>\n",
       "      <td>40</td>\n",
       "      <td>1</td>\n",
       "      <td>1</td>\n",
       "      <td>9.999998e-01</td>\n",
       "      <td>3</td>\n",
       "    </tr>\n",
       "    <tr>\n",
       "      <th>1574267</th>\n",
       "      <td>6dacd6040b4926ad3d47c950484bf0ec</td>\n",
       "      <td>a8d88604449da4bbe0b318923b6d860e</td>\n",
       "      <td>68a1ba743df5ea66c42e2e4337d7127a</td>\n",
       "      <td>900.0</td>\n",
       "      <td>PaymentSucceededV0</td>\n",
       "      <td>e395101288f53121cee2480bc7f24c4b</td>\n",
       "      <td>0.0</td>\n",
       "      <td>2024-05-22 18:14:09.962350+00:00</td>\n",
       "      <td>76</td>\n",
       "      <td>40</td>\n",
       "      <td>1</td>\n",
       "      <td>1</td>\n",
       "      <td>9.999998e-01</td>\n",
       "      <td>4</td>\n",
       "    </tr>\n",
       "    <tr>\n",
       "      <th>1574268</th>\n",
       "      <td>2a8caab9808ded90226f000b157c9c3c</td>\n",
       "      <td>a8d88604449da4bbe0b318923b6d860e</td>\n",
       "      <td>68a1ba743df5ea66c42e2e4337d7127a</td>\n",
       "      <td>900.0</td>\n",
       "      <td>PaymentSucceededV0</td>\n",
       "      <td>e395101288f53121cee2480bc7f24c4b</td>\n",
       "      <td>0.0</td>\n",
       "      <td>2024-05-22 18:29:40.218278+00:00</td>\n",
       "      <td>76</td>\n",
       "      <td>40</td>\n",
       "      <td>1</td>\n",
       "      <td>1</td>\n",
       "      <td>9.999998e-01</td>\n",
       "      <td>5</td>\n",
       "    </tr>\n",
       "    <tr>\n",
       "      <th>...</th>\n",
       "      <td>...</td>\n",
       "      <td>...</td>\n",
       "      <td>...</td>\n",
       "      <td>...</td>\n",
       "      <td>...</td>\n",
       "      <td>...</td>\n",
       "      <td>...</td>\n",
       "      <td>...</td>\n",
       "      <td>...</td>\n",
       "      <td>...</td>\n",
       "      <td>...</td>\n",
       "      <td>...</td>\n",
       "      <td>...</td>\n",
       "      <td>...</td>\n",
       "    </tr>\n",
       "    <tr>\n",
       "      <th>549013</th>\n",
       "      <td>4135bffa23b1e9a973cf33470d2f262d</td>\n",
       "      <td>77a2e30855edf0394006fd053d005e20</td>\n",
       "      <td>77a2e30855edf0394006fd053d005e20</td>\n",
       "      <td>881.0</td>\n",
       "      <td>PaymentSucceededV0</td>\n",
       "      <td>36628d303cdd443b0d1d475b58a76878</td>\n",
       "      <td>0.0</td>\n",
       "      <td>2024-05-13 16:48:27.326398+00:00</td>\n",
       "      <td>38</td>\n",
       "      <td>38</td>\n",
       "      <td>0</td>\n",
       "      <td>0</td>\n",
       "      <td>4.980734e-08</td>\n",
       "      <td>1574357</td>\n",
       "    </tr>\n",
       "    <tr>\n",
       "      <th>551945</th>\n",
       "      <td>4c88714e99a8f45e40f582fa18db8887</td>\n",
       "      <td>d4ffad0ac205d5c1cf7091a3631b1130</td>\n",
       "      <td>9cd0607bdcd873c21dfc556e61f0d1a8</td>\n",
       "      <td>756.0</td>\n",
       "      <td>PaymentSucceededV0</td>\n",
       "      <td>6fed08d35288c5c3571085571e34c7c1</td>\n",
       "      <td>0.0</td>\n",
       "      <td>2024-05-13 16:45:56.940428+00:00</td>\n",
       "      <td>28</td>\n",
       "      <td>56</td>\n",
       "      <td>0</td>\n",
       "      <td>0</td>\n",
       "      <td>4.980734e-08</td>\n",
       "      <td>1574358</td>\n",
       "    </tr>\n",
       "    <tr>\n",
       "      <th>574018</th>\n",
       "      <td>19af5bb41d810ab84e7240dfa451ecb3</td>\n",
       "      <td>cef3e8531c86c28e294b64d225c63451</td>\n",
       "      <td>d76187c765047640c41bb2d6ce068648</td>\n",
       "      <td>702.5</td>\n",
       "      <td>PaymentSucceededV0</td>\n",
       "      <td>6fed08d35288c5c3571085571e34c7c1</td>\n",
       "      <td>0.0</td>\n",
       "      <td>2024-05-13 20:14:05.620902+00:00</td>\n",
       "      <td>30</td>\n",
       "      <td>28</td>\n",
       "      <td>0</td>\n",
       "      <td>0</td>\n",
       "      <td>4.980734e-08</td>\n",
       "      <td>1574359</td>\n",
       "    </tr>\n",
       "    <tr>\n",
       "      <th>635423</th>\n",
       "      <td>ffe7a6f86ed7b3040fc235f59e24ef7c</td>\n",
       "      <td>52bd0c6fc11e1e4c41f75c0472e86645</td>\n",
       "      <td>565ed771a78433db30da0f4ef94216ed</td>\n",
       "      <td>800.0</td>\n",
       "      <td>PaymentSucceededV0</td>\n",
       "      <td>9022a190bcbcd8f1fc2f9f6df8bf1f92</td>\n",
       "      <td>0.0</td>\n",
       "      <td>2024-05-13 13:29:29.878628+00:00</td>\n",
       "      <td>38</td>\n",
       "      <td>46</td>\n",
       "      <td>0</td>\n",
       "      <td>0</td>\n",
       "      <td>4.980734e-08</td>\n",
       "      <td>1574360</td>\n",
       "    </tr>\n",
       "    <tr>\n",
       "      <th>723978</th>\n",
       "      <td>6c514049e0db92096f154d4d127735c2</td>\n",
       "      <td>644d88b65a10139611ad566d4883d596</td>\n",
       "      <td>740844d8a4d256aa881eb6a1ef2f8481</td>\n",
       "      <td>820.0</td>\n",
       "      <td>PaymentSucceededV0</td>\n",
       "      <td>6fed08d35288c5c3571085571e34c7c1</td>\n",
       "      <td>0.0</td>\n",
       "      <td>2024-05-13 14:36:52.055213+00:00</td>\n",
       "      <td>20</td>\n",
       "      <td>19</td>\n",
       "      <td>0</td>\n",
       "      <td>0</td>\n",
       "      <td>4.980734e-08</td>\n",
       "      <td>1574361</td>\n",
       "    </tr>\n",
       "  </tbody>\n",
       "</table>\n",
       "<p>1574361 rows × 14 columns</p>\n",
       "</div>"
      ],
      "text/plain": [
       "                                       id                         sender_id  \\\n",
       "1574264  60187f84f25afb235f20f021159ebf46  a8d88604449da4bbe0b318923b6d860e   \n",
       "1574265  b899e57fb5303729141c521edc14910d  a8d88604449da4bbe0b318923b6d860e   \n",
       "1574266  b9ea123c60d3f11611bcfed314f0cdfa  a8d88604449da4bbe0b318923b6d860e   \n",
       "1574267  6dacd6040b4926ad3d47c950484bf0ec  a8d88604449da4bbe0b318923b6d860e   \n",
       "1574268  2a8caab9808ded90226f000b157c9c3c  a8d88604449da4bbe0b318923b6d860e   \n",
       "...                                   ...                               ...   \n",
       "549013   4135bffa23b1e9a973cf33470d2f262d  77a2e30855edf0394006fd053d005e20   \n",
       "551945   4c88714e99a8f45e40f582fa18db8887  d4ffad0ac205d5c1cf7091a3631b1130   \n",
       "574018   19af5bb41d810ab84e7240dfa451ecb3  cef3e8531c86c28e294b64d225c63451   \n",
       "635423   ffe7a6f86ed7b3040fc235f59e24ef7c  52bd0c6fc11e1e4c41f75c0472e86645   \n",
       "723978   6c514049e0db92096f154d4d127735c2  644d88b65a10139611ad566d4883d596   \n",
       "\n",
       "                              receiver_id  amount              status  \\\n",
       "1574264  68a1ba743df5ea66c42e2e4337d7127a   900.0  PaymentSucceededV0   \n",
       "1574265  68a1ba743df5ea66c42e2e4337d7127a   900.0  PaymentSucceededV0   \n",
       "1574266  68a1ba743df5ea66c42e2e4337d7127a   900.0  PaymentSucceededV0   \n",
       "1574267  68a1ba743df5ea66c42e2e4337d7127a   900.0  PaymentSucceededV0   \n",
       "1574268  68a1ba743df5ea66c42e2e4337d7127a   900.0  PaymentSucceededV0   \n",
       "...                                   ...     ...                 ...   \n",
       "549013   77a2e30855edf0394006fd053d005e20   881.0  PaymentSucceededV0   \n",
       "551945   9cd0607bdcd873c21dfc556e61f0d1a8   756.0  PaymentSucceededV0   \n",
       "574018   d76187c765047640c41bb2d6ce068648   702.5  PaymentSucceededV0   \n",
       "635423   565ed771a78433db30da0f4ef94216ed   800.0  PaymentSucceededV0   \n",
       "723978   740844d8a4d256aa881eb6a1ef2f8481   820.0  PaymentSucceededV0   \n",
       "\n",
       "                                 flowname  bankfees  \\\n",
       "1574264  e395101288f53121cee2480bc7f24c4b       0.0   \n",
       "1574265  e395101288f53121cee2480bc7f24c4b       0.0   \n",
       "1574266  e395101288f53121cee2480bc7f24c4b       0.0   \n",
       "1574267  e395101288f53121cee2480bc7f24c4b       0.0   \n",
       "1574268  e395101288f53121cee2480bc7f24c4b       0.0   \n",
       "...                                   ...       ...   \n",
       "549013   36628d303cdd443b0d1d475b58a76878       0.0   \n",
       "551945   6fed08d35288c5c3571085571e34c7c1       0.0   \n",
       "574018   6fed08d35288c5c3571085571e34c7c1       0.0   \n",
       "635423   9022a190bcbcd8f1fc2f9f6df8bf1f92       0.0   \n",
       "723978   6fed08d35288c5c3571085571e34c7c1       0.0   \n",
       "\n",
       "                                timestamp  sender_age  receiver_age  fraud  \\\n",
       "1574264  2024-05-22 18:18:58.437064+00:00          76            40      1   \n",
       "1574265  2024-05-22 18:26:33.458626+00:00          76            40      1   \n",
       "1574266  2024-05-22 17:47:39.053778+00:00          76            40      1   \n",
       "1574267  2024-05-22 18:14:09.962350+00:00          76            40      1   \n",
       "1574268  2024-05-22 18:29:40.218278+00:00          76            40      1   \n",
       "...                                   ...         ...           ...    ...   \n",
       "549013   2024-05-13 16:48:27.326398+00:00          38            38      0   \n",
       "551945   2024-05-13 16:45:56.940428+00:00          28            56      0   \n",
       "574018   2024-05-13 20:14:05.620902+00:00          30            28      0   \n",
       "635423   2024-05-13 13:29:29.878628+00:00          38            46      0   \n",
       "723978   2024-05-13 14:36:52.055213+00:00          20            19      0   \n",
       "\n",
       "         fraud_predicted  fraud_predicted_proba  fraud_rank  \n",
       "1574264                1           9.999998e-01           1  \n",
       "1574265                1           9.999998e-01           2  \n",
       "1574266                1           9.999998e-01           3  \n",
       "1574267                1           9.999998e-01           4  \n",
       "1574268                1           9.999998e-01           5  \n",
       "...                  ...                    ...         ...  \n",
       "549013                 0           4.980734e-08     1574357  \n",
       "551945                 0           4.980734e-08     1574358  \n",
       "574018                 0           4.980734e-08     1574359  \n",
       "635423                 0           4.980734e-08     1574360  \n",
       "723978                 0           4.980734e-08     1574361  \n",
       "\n",
       "[1574361 rows x 14 columns]"
      ]
     },
     "execution_count": 21,
     "metadata": {},
     "output_type": "execute_result"
    }
   ],
   "source": [
    "if model_to_use in ['lr', 'dt']:\n",
    "    y_pred_proba = clf.predict_proba(X_standardized)\n",
    "elif model_to_use == 'xgb':\n",
    "    y_pred_proba = y_pred_proba.reshape((-1, 1))\n",
    "    y_pred_proba = np.hstack([np.zeros((y_pred_proba.shape[0], 1)), y_pred_proba])\n",
    "    \n",
    "utils.generate_prediction_report(path_to_data_inf_org, path_to_data_inf_transformed, y, y_pred, y_pred_proba, 'prediction_report.csv')"
   ]
  },
  {
   "cell_type": "code",
   "execution_count": null,
   "id": "83a5f8d6-743d-4623-af27-7ad12b1d8b48",
   "metadata": {},
   "outputs": [],
   "source": []
  }
 ],
 "metadata": {
  "kernelspec": {
   "display_name": "Python 3 (ipykernel)",
   "language": "python",
   "name": "python3"
  },
  "language_info": {
   "codemirror_mode": {
    "name": "ipython",
    "version": 3
   },
   "file_extension": ".py",
   "mimetype": "text/x-python",
   "name": "python",
   "nbconvert_exporter": "python",
   "pygments_lexer": "ipython3",
   "version": "3.8.10"
  }
 },
 "nbformat": 4,
 "nbformat_minor": 5
}
